{
  "nbformat": 4,
  "nbformat_minor": 0,
  "metadata": {
    "colab": {
      "provenance": []
    },
    "kernelspec": {
      "name": "python3",
      "display_name": "Python 3"
    },
    "language_info": {
      "name": "python"
    }
  },
  "cells": [
    {
      "cell_type": "code",
      "execution_count": 1,
      "metadata": {
        "id": "ssg6u7a702bS"
      },
      "outputs": [],
      "source": [
        "def twoSum(nums, target):\n",
        "    num_map = {}\n",
        "    for i, num in enumerate(nums):\n",
        "        complement = target - num\n",
        "        if complement in num_map:\n",
        "            return [num_map[complement], i]\n",
        "        num_map[num] = i"
      ]
    }
  ]
}